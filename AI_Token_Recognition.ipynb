{
 "cells": [
  {
   "cell_type": "markdown",
   "id": "stylish-superior",
   "metadata": {},
   "source": [
    "# Imports"
   ]
  },
  {
   "cell_type": "code",
   "execution_count": 1,
   "id": "impossible-investigator",
   "metadata": {},
   "outputs": [],
   "source": [
    "import matplotlib.pyplot as plt\n",
    "import numpy as np\n",
    "import os\n",
    "import PIL\n",
    "import tensorflow as tf\n",
    "\n",
    "# Keras\n",
    "from tensorflow import keras\n",
    "from tensorflow.keras import layers\n",
    "from tensorflow.keras.models import Sequential\n",
    "\n",
    "from tensorflow.keras.preprocessing.image import ImageDataGenerator\n",
    "\n",
    "import pathlib"
   ]
  },
  {
   "cell_type": "markdown",
   "id": "focused-dover",
   "metadata": {},
   "source": [
    "# Dataset"
   ]
  },
  {
   "cell_type": "code",
   "execution_count": 2,
   "id": "organized-feedback",
   "metadata": {},
   "outputs": [
    {
     "name": "stdout",
     "output_type": "stream",
     "text": [
      "The number of images is :80\n"
     ]
    }
   ],
   "source": [
    "data_dir = pathlib.Path('App/res/images_AI/')\n",
    "\n",
    "image_count = len(list(data_dir.glob('*/*.png')))\n",
    "print(f\"The number of images is :{image_count}\")\n"
   ]
  },
  {
   "cell_type": "markdown",
   "id": "endangered-orientation",
   "metadata": {},
   "source": [
    "# Creating a dataset for Keras"
   ]
  },
  {
   "cell_type": "code",
   "execution_count": 3,
   "id": "boxed-strengthening",
   "metadata": {},
   "outputs": [
    {
     "name": "stdout",
     "output_type": "stream",
     "text": [
      "Found 80 files belonging to 20 classes.\n",
      "Using 64 files for training.\n",
      "Found 80 files belonging to 20 classes.\n",
      "Using 16 files for validation.\n"
     ]
    }
   ],
   "source": [
    "# Parametres\n",
    "batch_size = 32\n",
    "img_height = 160\n",
    "img_width = 160\n",
    "\n",
    "input_shape=(img_height, img_width, 3)\n",
    "\n",
    "\n",
    "# Training dataset\n",
    "train_ds = tf.keras.preprocessing.image_dataset_from_directory(\n",
    "  data_dir,\n",
    "  validation_split=0.2,\n",
    "  subset=\"training\",\n",
    "  seed=123,\n",
    "  image_size=(img_height, img_width),\n",
    "  batch_size=batch_size)\n",
    "\n",
    "\n",
    "# Validation dataset\n",
    "val_ds = tf.keras.preprocessing.image_dataset_from_directory(\n",
    "  data_dir,\n",
    "  validation_split=0.2,\n",
    "  subset=\"validation\",\n",
    "  seed=123,\n",
    "  image_size=(img_height, img_width),\n",
    "  batch_size=batch_size)"
   ]
  },
  {
   "cell_type": "markdown",
   "id": "immediate-christian",
   "metadata": {},
   "source": [
    "## Checking classes"
   ]
  },
  {
   "cell_type": "code",
   "execution_count": 4,
   "id": "compliant-regulation",
   "metadata": {},
   "outputs": [
    {
     "name": "stdout",
     "output_type": "stream",
     "text": [
      "['1', '10', '11', '12', '13', '14', '15', '16', '17', '18', '19', '2', '20', '3', '4', '5', '6', '7', '8', '9']\n"
     ]
    }
   ],
   "source": [
    "class_names = train_ds.class_names\n",
    "print(class_names)"
   ]
  },
  {
   "cell_type": "markdown",
   "id": "optional-flashing",
   "metadata": {},
   "source": [
    "# Visualize the data"
   ]
  },
  {
   "cell_type": "code",
   "execution_count": 5,
   "id": "indonesian-roulette",
   "metadata": {},
   "outputs": [],
   "source": [
    "#plt.figure(figsize=(10, 10))\n",
    "#for images, labels in train_ds.take(1):\n",
    "#  for i in range(9):\n",
    "#    ax = plt.subplot(3, 3, i + 1)\n",
    "#    plt.imshow(images[i].numpy().astype(\"uint8\"))\n",
    "#    plt.title(class_names[labels[i]])\n",
    "#    plt.axis(\"off\")"
   ]
  },
  {
   "cell_type": "markdown",
   "id": "prospective-bunny",
   "metadata": {},
   "source": [
    "## Manual retrieving of images by batch"
   ]
  },
  {
   "cell_type": "code",
   "execution_count": 6,
   "id": "demanding-review",
   "metadata": {},
   "outputs": [],
   "source": [
    "#for image_batch, labels_batch in train_ds:\n",
    "#  print(image_batch.shape)\n",
    "#  print(labels_batch.shape)\n",
    "#  break"
   ]
  },
  {
   "cell_type": "markdown",
   "id": "otherwise-evaluation",
   "metadata": {},
   "source": [
    "## Performance"
   ]
  },
  {
   "cell_type": "code",
   "execution_count": 7,
   "id": "respective-ancient",
   "metadata": {},
   "outputs": [],
   "source": [
    "AUTOTUNE = tf.data.experimental.AUTOTUNE\n",
    "\n",
    "train_ds = train_ds.cache().shuffle(1000).prefetch(buffer_size=AUTOTUNE)\n",
    "val_ds = val_ds.cache().prefetch(buffer_size=AUTOTUNE)"
   ]
  },
  {
   "cell_type": "markdown",
   "id": "centered-bookmark",
   "metadata": {},
   "source": [
    "# Data normalization example"
   ]
  },
  {
   "cell_type": "code",
   "execution_count": 8,
   "id": "ruled-mineral",
   "metadata": {},
   "outputs": [],
   "source": [
    "normalization_layer = layers.experimental.preprocessing.Rescaling(1./255)"
   ]
  },
  {
   "cell_type": "code",
   "execution_count": 9,
   "id": "married-japan",
   "metadata": {},
   "outputs": [
    {
     "name": "stdout",
     "output_type": "stream",
     "text": [
      "0.0 1.0\n"
     ]
    }
   ],
   "source": [
    "normalized_ds = train_ds.map(lambda x, y: (normalization_layer(x), y))\n",
    "image_batch, labels_batch = next(iter(normalized_ds))\n",
    "first_image = image_batch[0]\n",
    "# Notice the pixels values are now in `[0,1]`.\n",
    "print(np.min(first_image), np.max(first_image))"
   ]
  },
  {
   "cell_type": "markdown",
   "id": "formed-liberal",
   "metadata": {},
   "source": [
    "# Model creation"
   ]
  },
  {
   "cell_type": "code",
   "execution_count": 10,
   "id": "comparative-serial",
   "metadata": {},
   "outputs": [],
   "source": [
    "num_classes = 20\n",
    "\n",
    "model = Sequential([\n",
    "  layers.experimental.preprocessing.Rescaling(1./255, input_shape=input_shape),\n",
    "  layers.Conv2D(16, 3, padding='same', activation='relu'),\n",
    "  layers.MaxPooling2D(),\n",
    "  layers.Conv2D(32, 3, padding='same', activation='relu'),\n",
    "  layers.MaxPooling2D(),\n",
    "  layers.Conv2D(64, 3, padding='same', activation='relu'),\n",
    "  layers.MaxPooling2D(),\n",
    "  layers.Flatten(),\n",
    "  layers.Dense(128, activation='relu'),\n",
    "  layers.Dense(num_classes)\n",
    "])"
   ]
  },
  {
   "cell_type": "markdown",
   "id": "brilliant-feedback",
   "metadata": {},
   "source": [
    "## Compile the model"
   ]
  },
  {
   "cell_type": "code",
   "execution_count": 11,
   "id": "weird-embassy",
   "metadata": {},
   "outputs": [],
   "source": [
    "model.compile(optimizer='adam',\n",
    "              loss=tf.keras.losses.SparseCategoricalCrossentropy(from_logits=True),\n",
    "              metrics=['accuracy'])"
   ]
  },
  {
   "cell_type": "code",
   "execution_count": 12,
   "id": "strong-miller",
   "metadata": {
    "scrolled": true
   },
   "outputs": [],
   "source": [
    "# model.summary()"
   ]
  },
  {
   "cell_type": "markdown",
   "id": "stopped-daisy",
   "metadata": {},
   "source": [
    "# Model training"
   ]
  },
  {
   "cell_type": "code",
   "execution_count": 13,
   "id": "constant-humanitarian",
   "metadata": {
    "scrolled": true
   },
   "outputs": [
    {
     "name": "stdout",
     "output_type": "stream",
     "text": [
      "Epoch 1/10\n",
      "2/2 [==============================] - 1s 625ms/step - loss: 3.6988 - accuracy: 0.0625 - val_loss: 3.4020 - val_accuracy: 0.0625\n",
      "Epoch 2/10\n",
      "2/2 [==============================] - 0s 219ms/step - loss: 3.4679 - accuracy: 0.0208 - val_loss: 3.0404 - val_accuracy: 0.1875\n",
      "Epoch 3/10\n",
      "2/2 [==============================] - 0s 206ms/step - loss: 3.0909 - accuracy: 0.0729 - val_loss: 2.9761 - val_accuracy: 0.1875\n",
      "Epoch 4/10\n",
      "2/2 [==============================] - 0s 249ms/step - loss: 2.9929 - accuracy: 0.0417 - val_loss: 2.9837 - val_accuracy: 0.0625\n",
      "Epoch 5/10\n",
      "2/2 [==============================] - 0s 263ms/step - loss: 2.9587 - accuracy: 0.1562 - val_loss: 2.9961 - val_accuracy: 0.1250\n",
      "Epoch 6/10\n",
      "2/2 [==============================] - 0s 217ms/step - loss: 2.9331 - accuracy: 0.2500 - val_loss: 3.0078 - val_accuracy: 0.0000e+00\n",
      "Epoch 7/10\n",
      "2/2 [==============================] - 0s 217ms/step - loss: 2.9031 - accuracy: 0.3646 - val_loss: 3.0192 - val_accuracy: 0.0625\n",
      "Epoch 8/10\n",
      "2/2 [==============================] - 0s 215ms/step - loss: 2.8223 - accuracy: 0.3333 - val_loss: 3.0395 - val_accuracy: 0.0000e+00\n",
      "Epoch 9/10\n",
      "2/2 [==============================] - 0s 227ms/step - loss: 2.7531 - accuracy: 0.2708 - val_loss: 3.0330 - val_accuracy: 0.0000e+00\n",
      "Epoch 10/10\n",
      "2/2 [==============================] - 0s 253ms/step - loss: 2.5901 - accuracy: 0.3333 - val_loss: 3.0477 - val_accuracy: 0.0000e+00\n"
     ]
    }
   ],
   "source": [
    "epochs=10\n",
    "history = model.fit(\n",
    "  train_ds,\n",
    "  validation_data=val_ds,\n",
    "  epochs=epochs\n",
    ")"
   ]
  },
  {
   "cell_type": "markdown",
   "id": "severe-summary",
   "metadata": {},
   "source": [
    "# Visualize training results"
   ]
  },
  {
   "cell_type": "code",
   "execution_count": 14,
   "id": "dirty-priest",
   "metadata": {
    "scrolled": true
   },
   "outputs": [
    {
     "data": {
      "image/png": "[encoded data removed]",
      "text/plain": [
       "<Figure size 576x576 with 2 Axes>"
      ]
     },
     "metadata": {
      "needs_background": "light"
     },
     "output_type": "display_data"
    }
   ],
   "source": [
    "acc = history.history['accuracy']\n",
    "val_acc = history.history['val_accuracy']\n",
    "\n",
    "loss = history.history['loss']\n",
    "val_loss = history.history['val_loss']\n",
    "\n",
    "epochs_range = range(epochs)\n",
    "\n",
    "plt.figure(figsize=(8, 8))\n",
    "plt.subplot(1, 2, 1)\n",
    "plt.plot(epochs_range, acc, label='Training Accuracy')\n",
    "plt.plot(epochs_range, val_acc, label='Validation Accuracy')\n",
    "plt.legend(loc='lower right')\n",
    "plt.title('Training and Validation Accuracy')\n",
    "\n",
    "plt.subplot(1, 2, 2)\n",
    "plt.plot(epochs_range, loss, label='Training Loss')\n",
    "plt.plot(epochs_range, val_loss, label='Validation Loss')\n",
    "plt.legend(loc='upper right')\n",
    "plt.title('Training and Validation Loss')\n",
    "plt.show()"
   ]
  },
  {
   "cell_type": "markdown",
   "metadata": {},
   "source": [
    "# Testing the basic model"
   ]
  },
  {
   "cell_type": "code",
   "execution_count": 15,
   "metadata": {
    "scrolled": false
   },
   "outputs": [
    {
     "name": "stdout",
     "output_type": "stream",
     "text": [
      "This image most likely belongs to 9 with a 11.82 percent confidence.\n",
      "This image most likely belongs to 1 with a 9.01 percent confidence.\n",
      "This image most likely belongs to 9 with a 8.24 percent confidence.\n",
      "This image most likely belongs to 8 with a 9.52 percent confidence.\n",
      "This image most likely belongs to 9 with a 9.16 percent confidence.\n",
      "This image most likely belongs to 2 with a 14.45 percent confidence.\n",
      "This image most likely belongs to 9 with a 14.03 percent confidence.\n",
      "This image most likely belongs to 9 with a 8.39 percent confidence.\n",
      "This image most likely belongs to 3 with a 12.58 percent confidence.\n",
      "This image most likely belongs to 8 with a 10.97 percent confidence.\n",
      "This image most likely belongs to 3 with a 14.44 percent confidence.\n",
      "This image most likely belongs to 5 with a 8.04 percent confidence.\n",
      "This image most likely belongs to 8 with a 8.10 percent confidence.\n",
      "This image most likely belongs to 4 with a 8.30 percent confidence.\n",
      "This image most likely belongs to 4 with a 9.87 percent confidence.\n",
      "This image most likely belongs to 12 with a 7.38 percent confidence.\n",
      "This image most likely belongs to 5 with a 9.88 percent confidence.\n",
      "This image most likely belongs to 8 with a 12.08 percent confidence.\n",
      "This image most likely belongs to 5 with a 10.35 percent confidence.\n",
      "This image most likely belongs to 5 with a 10.02 percent confidence.\n",
      "This image most likely belongs to 5 with a 8.75 percent confidence.\n",
      "This image most likely belongs to 5 with a 8.24 percent confidence.\n",
      "This image most likely belongs to 9 with a 11.45 percent confidence.\n",
      "This image most likely belongs to 8 with a 8.84 percent confidence.\n",
      "This image most likely belongs to 9 with a 13.24 percent confidence.\n",
      "This image most likely belongs to 5 with a 8.15 percent confidence.\n",
      "This image most likely belongs to 9 with a 13.54 percent confidence.\n",
      "This image most likely belongs to 8 with a 9.74 percent confidence.\n",
      "This image most likely belongs to 9 with a 9.86 percent confidence.\n",
      "This image most likely belongs to 8 with a 15.08 percent confidence.\n",
      "This image most likely belongs to 8 with a 59.41 percent confidence.\n",
      "This image most likely belongs to 8 with a 10.86 percent confidence.\n",
      "This image most likely belongs to 9 with a 12.92 percent confidence.\n",
      "This image most likely belongs to 8 with a 8.93 percent confidence.\n",
      "This image most likely belongs to 9 with a 15.74 percent confidence.\n",
      "This image most likely belongs to 8 with a 11.68 percent confidence.\n",
      "This image most likely belongs to 17 with a 10.76 percent confidence.\n",
      "This image most likely belongs to 14 with a 10.80 percent confidence.\n",
      "This image most likely belongs to 17 with a 8.78 percent confidence.\n",
      "This image most likely belongs to 12 with a 9.46 percent confidence.\n",
      "This image most likely belongs to 17 with a 8.45 percent confidence.\n",
      "This image most likely belongs to 14 with a 11.71 percent confidence.\n",
      "This image most likely belongs to 11 with a 10.50 percent confidence.\n",
      "This image most likely belongs to 12 with a 9.19 percent confidence.\n",
      "This image most likely belongs to 12 with a 15.20 percent confidence.\n",
      "This image most likely belongs to 12 with a 11.63 percent confidence.\n",
      "This image most likely belongs to 12 with a 8.84 percent confidence.\n",
      "This image most likely belongs to 12 with a 13.53 percent confidence.\n",
      "This image most likely belongs to 12 with a 7.52 percent confidence.\n",
      "This image most likely belongs to 12 with a 10.91 percent confidence.\n",
      "This image most likely belongs to 12 with a 7.72 percent confidence.\n",
      "This image most likely belongs to 12 with a 11.42 percent confidence.\n",
      "This image most likely belongs to 17 with a 9.03 percent confidence.\n",
      "This image most likely belongs to 14 with a 18.22 percent confidence.\n",
      "This image most likely belongs to 14 with a 10.71 percent confidence.\n",
      "This image most likely belongs to 14 with a 20.32 percent confidence.\n",
      "This image most likely belongs to 14 with a 7.34 percent confidence.\n",
      "This image most likely belongs to 12 with a 10.83 percent confidence.\n",
      "This image most likely belongs to 17 with a 9.42 percent confidence.\n",
      "This image most likely belongs to 12 with a 9.88 percent confidence.\n",
      "This image most likely belongs to 12 with a 7.71 percent confidence.\n",
      "This image most likely belongs to 16 with a 11.51 percent confidence.\n",
      "This image most likely belongs to 12 with a 7.21 percent confidence.\n",
      "This image most likely belongs to 12 with a 10.35 percent confidence.\n",
      "This image most likely belongs to 17 with a 16.54 percent confidence.\n",
      "This image most likely belongs to 12 with a 10.37 percent confidence.\n",
      "This image most likely belongs to 17 with a 11.63 percent confidence.\n",
      "This image most likely belongs to 17 with a 9.11 percent confidence.\n",
      "This image most likely belongs to 17 with a 7.59 percent confidence.\n",
      "This image most likely belongs to 17 with a 8.00 percent confidence.\n",
      "This image most likely belongs to 12 with a 8.44 percent confidence.\n",
      "This image most likely belongs to 12 with a 11.25 percent confidence.\n",
      "This image most likely belongs to 19 with a 10.84 percent confidence.\n",
      "This image most likely belongs to 19 with a 8.85 percent confidence.\n",
      "This image most likely belongs to 19 with a 8.71 percent confidence.\n",
      "This image most likely belongs to 12 with a 10.28 percent confidence.\n",
      "This image most likely belongs to 3 with a 7.07 percent confidence.\n",
      "This image most likely belongs to 20 with a 8.94 percent confidence.\n",
      "This image most likely belongs to 20 with a 8.03 percent confidence.\n",
      "This image most likely belongs to 12 with a 9.73 percent confidence.\n",
      "Number of correct red = 11\n",
      "Number of correct purple = 6\n",
      "Number of correct green = 9\n",
      "Number of correct yellow = 5\n"
     ]
    }
   ],
   "source": [
    "img_dir = \"App/res/images_AI/\"\n",
    "img_names = {'green.png', 'purple.png', 'red.png', 'yellow.png'}\n",
    "\n",
    "# images vars\n",
    "#img_dir = \"App/res/images/\";\n",
    "#img_names = {'jaune.png', 'rouge.png', 'vert.jpg', 'violet.png'}\n",
    "\n",
    "cpt_green = 0\n",
    "cpt_purple = 0\n",
    "cpt_red = 0\n",
    "cpt_yellow = 0\n",
    "\n",
    "for i in range(1, 21):\n",
    "    for name in img_names: \n",
    "    \n",
    "      img = keras.preprocessing.image.load_img(\n",
    "          img_dir + str(i) + '/' + str(i) + name, target_size=(img_height, img_width)\n",
    "      )\n",
    "\n",
    "      # draw the chart containing the image with boxes\n",
    "      #plt.imshow(img)\n",
    "      #plt.title(name)\n",
    "      #plt.show()\n",
    "        \n",
    "      img_array = keras.preprocessing.image.img_to_array(img)\n",
    "      img_array = tf.expand_dims(img_array, 0) # Create a batch\n",
    "\n",
    "      predictions = model.predict(img_array)\n",
    "      score = tf.nn.softmax(predictions[0])\n",
    "\n",
    "        \n",
    "      number = class_names[np.argmax(score)]\n",
    "    \n",
    "      print(\n",
    "          \"This image most likely belongs to {} with a {:.2f} percent confidence.\"\n",
    "          .format(class_names[np.argmax(score)], 100 * np.max(score))\n",
    "      )\n",
    "\n",
    "      if( int(number) == i ):\n",
    "            if( name == 'green.png' ): \n",
    "                cpt_green += 1\n",
    "            if( name == 'purple.png' ): \n",
    "                cpt_purple += 1\n",
    "            if( name == 'red.png' ): \n",
    "                cpt_red += 1\n",
    "            if( name == 'yellow.png' ): \n",
    "                cpt_yellow += 1\n",
    "\n",
    "print(\"Number of correct red = \" + str(cpt_red))\n",
    "print(\"Number of correct purple = \" + str(cpt_purple))\n",
    "print(\"Number of correct green = \" + str(cpt_green))\n",
    "print(\"Number of correct yellow = \" + str(cpt_yellow))"
   ]
  },
  {
   "cell_type": "markdown",
   "id": "maritime-liberty",
   "metadata": {},
   "source": [
    "# Data augmentation"
   ]
  },
  {
   "cell_type": "markdown",
   "metadata": {},
   "source": [
    "Doesn't work: NotImplementedError when adding input_shape (something with NumPy calls inside Keras.Sequential)"
   ]
  },
  {
   "cell_type": "raw",
   "metadata": {},
   "source": [
    "data_augmentation = Sequential([\n",
    "    layers.experimental.preprocessing.RandomFlip(\"horizontal\", input_shape=input_shape),\n",
    "    layers.experimental.preprocessing.RandomRotation(0.1),\n",
    "    layers.experimental.preprocessing.RandomZoom(0.1),\n",
    "  ])"
   ]
  },
  {
   "cell_type": "raw",
   "metadata": {
    "scrolled": true
   },
   "source": [
    "plt.figure(figsize=(10, 10))\n",
    "for images, _ in train_ds.take(1):\n",
    "  for i in range(9):\n",
    "    augmented_images = data_augmentation(images)\n",
    "    ax = plt.subplot(3, 3, i + 1)\n",
    "    plt.imshow(augmented_images[0].numpy().astype(\"uint8\"))\n",
    "    plt.axis(\"off\")"
   ]
  },
  {
   "cell_type": "markdown",
   "id": "pressed-luther",
   "metadata": {},
   "source": [
    "# Dropout without data augmentation"
   ]
  },
  {
   "cell_type": "code",
   "execution_count": 16,
   "metadata": {},
   "outputs": [],
   "source": [
    "num_classes = 20\n",
    "\n",
    "model = Sequential([\n",
    "  layers.experimental.preprocessing.Rescaling(1./255, input_shape=input_shape),\n",
    "  layers.Conv2D(16, 3, padding='same', activation='relu'),\n",
    "  layers.MaxPooling2D(),\n",
    "  layers.Conv2D(32, 3, padding='same', activation='relu'),\n",
    "  layers.MaxPooling2D(),\n",
    "  layers.Conv2D(64, 3, padding='same', activation='relu'),\n",
    "  layers.MaxPooling2D(),\n",
    "  layers.Dropout(0.2),\n",
    "  layers.Flatten(),\n",
    "  layers.Dense(128, activation='relu'),\n",
    "  layers.Dense(num_classes)\n",
    "])"
   ]
  },
  {
   "cell_type": "markdown",
   "id": "thrown-catch",
   "metadata": {},
   "source": [
    "# Dropout with Data augmentation"
   ]
  },
  {
   "cell_type": "markdown",
   "metadata": {},
   "source": [
    "Doesn't work because of an error in Data Augmentation part"
   ]
  },
  {
   "cell_type": "raw",
   "metadata": {},
   "source": [
    "num_classes = 20\n",
    "\n",
    "model = Sequential([\n",
    "  data_augmentation,\n",
    "  layers.experimental.preprocessing.Rescaling(1./255),\n",
    "  layers.Conv2D(16, 3, padding='same', activation='relu'),\n",
    "  layers.MaxPooling2D(),\n",
    "  layers.Conv2D(32, 3, padding='same', activation='relu'),\n",
    "  layers.MaxPooling2D(),\n",
    "  layers.Conv2D(64, 3, padding='same', activation='relu'),\n",
    "  layers.MaxPooling2D(),\n",
    "  layers.Dropout(0.2),\n",
    "  layers.Flatten(),\n",
    "  layers.Dense(128, activation='relu'),\n",
    "  layers.Dense(num_classes)\n",
    "])"
   ]
  },
  {
   "cell_type": "markdown",
   "id": "blond-ceramic",
   "metadata": {},
   "source": [
    "# Recompiling the model"
   ]
  },
  {
   "cell_type": "code",
   "execution_count": 17,
   "id": "industrial-praise",
   "metadata": {},
   "outputs": [],
   "source": [
    "model.compile(optimizer='adam',\n",
    "              loss=tf.keras.losses.SparseCategoricalCrossentropy(from_logits=True),\n",
    "              metrics=['accuracy'])"
   ]
  },
  {
   "cell_type": "code",
   "execution_count": 18,
   "id": "fifteen-adapter",
   "metadata": {
    "scrolled": true
   },
   "outputs": [
    {
     "name": "stdout",
     "output_type": "stream",
     "text": [
      "Model: \"sequential_1\"\n",
      "_________________________________________________________________\n",
      "Layer (type)                 Output Shape              Param #   \n",
      "=================================================================\n",
      "rescaling_2 (Rescaling)      (None, 160, 160, 3)       0         \n",
      "_________________________________________________________________\n",
      "conv2d_3 (Conv2D)            (None, 160, 160, 16)      448       \n",
      "_________________________________________________________________\n",
      "max_pooling2d_3 (MaxPooling2 (None, 80, 80, 16)        0         \n",
      "_________________________________________________________________\n",
      "conv2d_4 (Conv2D)            (None, 80, 80, 32)        4640      \n",
      "_________________________________________________________________\n",
      "max_pooling2d_4 (MaxPooling2 (None, 40, 40, 32)        0         \n",
      "_________________________________________________________________\n",
      "conv2d_5 (Conv2D)            (None, 40, 40, 64)        18496     \n",
      "_________________________________________________________________\n",
      "max_pooling2d_5 (MaxPooling2 (None, 20, 20, 64)        0         \n",
      "_________________________________________________________________\n",
      "dropout (Dropout)            (None, 20, 20, 64)        0         \n",
      "_________________________________________________________________\n",
      "flatten_1 (Flatten)          (None, 25600)             0         \n",
      "_________________________________________________________________\n",
      "dense_2 (Dense)              (None, 128)               3276928   \n",
      "_________________________________________________________________\n",
      "dense_3 (Dense)              (None, 20)                2580      \n",
      "=================================================================\n",
      "Total params: 3,303,092\n",
      "Trainable params: 3,303,092\n",
      "Non-trainable params: 0\n",
      "_________________________________________________________________\n"
     ]
    }
   ],
   "source": [
    "model.summary()"
   ]
  },
  {
   "cell_type": "markdown",
   "id": "cooperative-acting",
   "metadata": {},
   "source": [
    "## Retraining the model"
   ]
  },
  {
   "cell_type": "code",
   "execution_count": 19,
   "id": "eleven-lucas",
   "metadata": {},
   "outputs": [
    {
     "name": "stdout",
     "output_type": "stream",
     "text": [
      "Epoch 1/15\n",
      "2/2 [==============================] - 1s 438ms/step - loss: 3.1675 - accuracy: 0.0417 - val_loss: 3.0879 - val_accuracy: 0.0625\n",
      "Epoch 2/15\n",
      "2/2 [==============================] - 1s 289ms/step - loss: 2.9787 - accuracy: 0.0521 - val_loss: 3.0305 - val_accuracy: 0.0625\n",
      "Epoch 3/15\n",
      "2/2 [==============================] - 0s 276ms/step - loss: 2.8446 - accuracy: 0.2812 - val_loss: 3.0516 - val_accuracy: 0.0625\n",
      "Epoch 4/15\n",
      "2/2 [==============================] - 0s 255ms/step - loss: 2.7924 - accuracy: 0.3542 - val_loss: 3.1046 - val_accuracy: 0.0000e+00\n",
      "Epoch 5/15\n",
      "2/2 [==============================] - 0s 246ms/step - loss: 2.6524 - accuracy: 0.3125 - val_loss: 3.1729 - val_accuracy: 0.0000e+00\n",
      "Epoch 6/15\n",
      "2/2 [==============================] - 0s 285ms/step - loss: 2.4243 - accuracy: 0.3542 - val_loss: 3.1730 - val_accuracy: 0.0000e+00\n",
      "Epoch 7/15\n",
      "2/2 [==============================] - 0s 223ms/step - loss: 2.1145 - accuracy: 0.5625 - val_loss: 3.2497 - val_accuracy: 0.0625\n",
      "Epoch 8/15\n",
      "2/2 [==============================] - 0s 239ms/step - loss: 1.7632 - accuracy: 0.7396 - val_loss: 3.3453 - val_accuracy: 0.0625\n",
      "Epoch 9/15\n",
      "2/2 [==============================] - 0s 284ms/step - loss: 1.5411 - accuracy: 0.8125 - val_loss: 3.1316 - val_accuracy: 0.0625\n",
      "Epoch 10/15\n",
      "2/2 [==============================] - 0s 270ms/step - loss: 1.0804 - accuracy: 0.8333 - val_loss: 3.0686 - val_accuracy: 0.1250\n",
      "Epoch 11/15\n",
      "2/2 [==============================] - 1s 284ms/step - loss: 0.8628 - accuracy: 0.8854 - val_loss: 2.9771 - val_accuracy: 0.0625\n",
      "Epoch 12/15\n",
      "2/2 [==============================] - 0s 253ms/step - loss: 0.5054 - accuracy: 0.8958 - val_loss: 2.7492 - val_accuracy: 0.0625\n",
      "Epoch 13/15\n",
      "2/2 [==============================] - 0s 237ms/step - loss: 0.2982 - accuracy: 0.9896 - val_loss: 3.3281 - val_accuracy: 0.0625\n",
      "Epoch 14/15\n",
      "2/2 [==============================] - 0s 243ms/step - loss: 0.1741 - accuracy: 0.9583 - val_loss: 2.6774 - val_accuracy: 0.2500\n",
      "Epoch 15/15\n",
      "2/2 [==============================] - 0s 271ms/step - loss: 0.1638 - accuracy: 0.9583 - val_loss: 2.4830 - val_accuracy: 0.1875\n"
     ]
    }
   ],
   "source": [
    "epochs = 15\n",
    "history = model.fit(\n",
    "  train_ds,\n",
    "  validation_data=val_ds,\n",
    "  epochs=epochs\n",
    ")"
   ]
  },
  {
   "cell_type": "markdown",
   "id": "known-massachusetts",
   "metadata": {},
   "source": [
    "# Visualize the new results"
   ]
  },
  {
   "cell_type": "code",
   "execution_count": 20,
   "id": "governmental-archive",
   "metadata": {
    "scrolled": false
   },
   "outputs": [
    {
     "data": {
      "image/png": "[encoded data removed]",
      "text/plain": [
       "<Figure size 576x576 with 2 Axes>"
      ]
     },
     "metadata": {
      "needs_background": "light"
     },
     "output_type": "display_data"
    }
   ],
   "source": [
    "acc = history.history['accuracy']\n",
    "val_acc = history.history['val_accuracy']\n",
    "\n",
    "loss = history.history['loss']\n",
    "val_loss = history.history['val_loss']\n",
    "\n",
    "epochs_range = range(epochs)\n",
    "\n",
    "plt.figure(figsize=(8, 8))\n",
    "plt.subplot(1, 2, 1)\n",
    "plt.plot(epochs_range, acc, label='Training Accuracy')\n",
    "plt.plot(epochs_range, val_acc, label='Validation Accuracy')\n",
    "plt.legend(loc='lower right')\n",
    "plt.title('Training and Validation Accuracy')\n",
    "\n",
    "plt.subplot(1, 2, 2)\n",
    "plt.plot(epochs_range, loss, label='Training Loss')\n",
    "plt.plot(epochs_range, val_loss, label='Validation Loss')\n",
    "plt.legend(loc='upper right')\n",
    "plt.title('Training and Validation Loss')\n",
    "plt.show()"
   ]
  },
  {
   "cell_type": "markdown",
   "id": "clinical-inside",
   "metadata": {},
   "source": [
    "# Testing the model"
   ]
  },
  {
   "cell_type": "code",
   "execution_count": 21,
   "id": "chicken-complement",
   "metadata": {
    "scrolled": false
   },
   "outputs": [
    {
     "name": "stdout",
     "output_type": "stream",
     "text": [
      "This image most likely belongs to 1 with a 96.94 percent confidence.\n",
      "This image most likely belongs to 1 with a 95.71 percent confidence.\n",
      "This image most likely belongs to 1 with a 77.19 percent confidence.\n",
      "This image most likely belongs to 1 with a 97.26 percent confidence.\n",
      "This image most likely belongs to 2 with a 95.85 percent confidence.\n",
      "This image most likely belongs to 2 with a 99.96 percent confidence.\n",
      "This image most likely belongs to 7 with a 51.39 percent confidence.\n",
      "This image most likely belongs to 5 with a 35.32 percent confidence.\n",
      "This image most likely belongs to 3 with a 98.76 percent confidence.\n",
      "This image most likely belongs to 3 with a 98.90 percent confidence.\n",
      "This image most likely belongs to 3 with a 99.98 percent confidence.\n",
      "This image most likely belongs to 3 with a 47.61 percent confidence.\n",
      "This image most likely belongs to 8 with a 39.83 percent confidence.\n",
      "This image most likely belongs to 4 with a 99.68 percent confidence.\n",
      "This image most likely belongs to 4 with a 99.73 percent confidence.\n",
      "This image most likely belongs to 4 with a 99.07 percent confidence.\n",
      "This image most likely belongs to 5 with a 96.61 percent confidence.\n",
      "This image most likely belongs to 5 with a 99.29 percent confidence.\n",
      "This image most likely belongs to 5 with a 99.40 percent confidence.\n",
      "This image most likely belongs to 5 with a 98.69 percent confidence.\n",
      "This image most likely belongs to 6 with a 96.72 percent confidence.\n",
      "This image most likely belongs to 6 with a 99.85 percent confidence.\n",
      "This image most likely belongs to 5 with a 62.93 percent confidence.\n",
      "This image most likely belongs to 5 with a 48.64 percent confidence.\n",
      "This image most likely belongs to 7 with a 99.17 percent confidence.\n",
      "This image most likely belongs to 7 with a 43.92 percent confidence.\n",
      "This image most likely belongs to 7 with a 99.69 percent confidence.\n",
      "This image most likely belongs to 7 with a 98.07 percent confidence.\n",
      "This image most likely belongs to 3 with a 70.00 percent confidence.\n",
      "This image most likely belongs to 8 with a 98.84 percent confidence.\n",
      "This image most likely belongs to 8 with a 100.00 percent confidence.\n",
      "This image most likely belongs to 8 with a 97.97 percent confidence.\n",
      "This image most likely belongs to 9 with a 91.28 percent confidence.\n",
      "This image most likely belongs to 6 with a 81.27 percent confidence.\n",
      "This image most likely belongs to 9 with a 96.29 percent confidence.\n",
      "This image most likely belongs to 9 with a 89.73 percent confidence.\n",
      "This image most likely belongs to 10 with a 94.61 percent confidence.\n",
      "This image most likely belongs to 10 with a 86.70 percent confidence.\n",
      "This image most likely belongs to 10 with a 94.46 percent confidence.\n",
      "This image most likely belongs to 10 with a 77.11 percent confidence.\n",
      "This image most likely belongs to 11 with a 93.28 percent confidence.\n",
      "This image most likely belongs to 11 with a 99.83 percent confidence.\n",
      "This image most likely belongs to 11 with a 98.57 percent confidence.\n",
      "This image most likely belongs to 11 with a 89.52 percent confidence.\n",
      "This image most likely belongs to 12 with a 99.77 percent confidence.\n",
      "This image most likely belongs to 12 with a 94.15 percent confidence.\n",
      "This image most likely belongs to 12 with a 97.40 percent confidence.\n",
      "This image most likely belongs to 12 with a 92.48 percent confidence.\n",
      "This image most likely belongs to 12 with a 45.49 percent confidence.\n",
      "This image most likely belongs to 13 with a 98.34 percent confidence.\n",
      "This image most likely belongs to 13 with a 89.64 percent confidence.\n",
      "This image most likely belongs to 13 with a 98.07 percent confidence.\n",
      "This image most likely belongs to 14 with a 98.90 percent confidence.\n",
      "This image most likely belongs to 14 with a 99.88 percent confidence.\n",
      "This image most likely belongs to 14 with a 85.42 percent confidence.\n",
      "This image most likely belongs to 14 with a 98.67 percent confidence.\n",
      "This image most likely belongs to 18 with a 46.78 percent confidence.\n",
      "This image most likely belongs to 15 with a 94.41 percent confidence.\n",
      "This image most likely belongs to 15 with a 95.10 percent confidence.\n",
      "This image most likely belongs to 15 with a 98.99 percent confidence.\n",
      "This image most likely belongs to 16 with a 99.21 percent confidence.\n",
      "This image most likely belongs to 16 with a 96.58 percent confidence.\n",
      "This image most likely belongs to 16 with a 94.38 percent confidence.\n",
      "This image most likely belongs to 16 with a 81.75 percent confidence.\n",
      "This image most likely belongs to 17 with a 99.97 percent confidence.\n",
      "This image most likely belongs to 11 with a 62.75 percent confidence.\n",
      "This image most likely belongs to 17 with a 99.69 percent confidence.\n",
      "This image most likely belongs to 17 with a 99.43 percent confidence.\n",
      "This image most likely belongs to 18 with a 94.49 percent confidence.\n",
      "This image most likely belongs to 15 with a 63.19 percent confidence.\n",
      "This image most likely belongs to 18 with a 91.07 percent confidence.\n",
      "This image most likely belongs to 13 with a 34.10 percent confidence.\n",
      "This image most likely belongs to 19 with a 99.76 percent confidence.\n",
      "This image most likely belongs to 19 with a 99.53 percent confidence.\n",
      "This image most likely belongs to 19 with a 99.32 percent confidence.\n",
      "This image most likely belongs to 19 with a 95.29 percent confidence.\n",
      "This image most likely belongs to 2 with a 28.82 percent confidence.\n",
      "This image most likely belongs to 20 with a 99.97 percent confidence.\n",
      "This image most likely belongs to 20 with a 99.99 percent confidence.\n",
      "This image most likely belongs to 20 with a 99.78 percent confidence.\n",
      "Number of correct red = 18\n",
      "Number of correct purple = 15\n",
      "Number of correct green = 17\n",
      "Number of correct yellow = 17\n"
     ]
    }
   ],
   "source": [
    "img_dir = \"App/res/images_AI/\"\n",
    "img_names = {'green.png', 'purple.png', 'red.png', 'yellow.png'}\n",
    "\n",
    "# images vars\n",
    "#img_dir = \"App/res/images/\";\n",
    "#img_names = {'jaune.png', 'rouge.png', 'vert.jpg', 'violet.png'}\n",
    "\n",
    "cpt_green = 0\n",
    "cpt_purple = 0\n",
    "cpt_red = 0\n",
    "cpt_yellow = 0\n",
    "\n",
    "for i in range(1, 21):\n",
    "    for name in img_names: \n",
    "    \n",
    "      img = keras.preprocessing.image.load_img(\n",
    "          img_dir + str(i) + '/' + str(i) + name, target_size=(img_height, img_width)\n",
    "      )\n",
    "\n",
    "      # draw the chart containing the image with boxes\n",
    "      #plt.imshow(img)\n",
    "      #plt.title(name)\n",
    "      #plt.show()\n",
    "        \n",
    "      img_array = keras.preprocessing.image.img_to_array(img)\n",
    "      img_array = tf.expand_dims(img_array, 0) # Create a batch\n",
    "\n",
    "      predictions = model.predict(img_array)\n",
    "      score = tf.nn.softmax(predictions[0])\n",
    "\n",
    "        \n",
    "      number = class_names[np.argmax(score)]\n",
    "    \n",
    "      print(\n",
    "          \"This image most likely belongs to {} with a {:.2f} percent confidence.\"\n",
    "          .format(class_names[np.argmax(score)], 100 * np.max(score))\n",
    "      )\n",
    "\n",
    "      if( int(number) == i ):\n",
    "            if( name == 'green.png' ): \n",
    "                cpt_green += 1\n",
    "            if( name == 'purple.png' ): \n",
    "                cpt_purple += 1\n",
    "            if( name == 'red.png' ): \n",
    "                cpt_red += 1\n",
    "            if( name == 'yellow.png' ): \n",
    "                cpt_yellow += 1\n",
    "\n",
    "print(\"Number of correct red = \" + str(cpt_red))\n",
    "print(\"Number of correct purple = \" + str(cpt_purple))\n",
    "print(\"Number of correct green = \" + str(cpt_green))\n",
    "print(\"Number of correct yellow = \" + str(cpt_yellow))"
   ]
  },
  {
   "cell_type": "markdown",
   "metadata": {},
   "source": [
    "# Saving the model"
   ]
  },
  {
   "cell_type": "code",
   "execution_count": 22,
   "metadata": {},
   "outputs": [
    {
     "name": "stdout",
     "output_type": "stream",
     "text": [
      "INFO:tensorflow:Assets written to: AI_Token_Recognition/assets\n"
     ]
    }
   ],
   "source": [
    "model.save('AI_Token_Recognition')"
   ]
  },
  {
   "cell_type": "markdown",
   "metadata": {},
   "source": [
    "# Loading the model"
   ]
  },
  {
   "cell_type": "code",
   "execution_count": 23,
   "metadata": {},
   "outputs": [
    {
     "name": "stdout",
     "output_type": "stream",
     "text": [
      "Model: \"sequential_1\"\n",
      "_________________________________________________________________\n",
      "Layer (type)                 Output Shape              Param #   \n",
      "=================================================================\n",
      "rescaling_2 (Rescaling)      (None, 160, 160, 3)       0         \n",
      "_________________________________________________________________\n",
      "conv2d_3 (Conv2D)            (None, 160, 160, 16)      448       \n",
      "_________________________________________________________________\n",
      "max_pooling2d_3 (MaxPooling2 (None, 80, 80, 16)        0         \n",
      "_________________________________________________________________\n",
      "conv2d_4 (Conv2D)            (None, 80, 80, 32)        4640      \n",
      "_________________________________________________________________\n",
      "max_pooling2d_4 (MaxPooling2 (None, 40, 40, 32)        0         \n",
      "_________________________________________________________________\n",
      "conv2d_5 (Conv2D)            (None, 40, 40, 64)        18496     \n",
      "_________________________________________________________________\n",
      "max_pooling2d_5 (MaxPooling2 (None, 20, 20, 64)        0         \n",
      "_________________________________________________________________\n",
      "dropout (Dropout)            (None, 20, 20, 64)        0         \n",
      "_________________________________________________________________\n",
      "flatten_1 (Flatten)          (None, 25600)             0         \n",
      "_________________________________________________________________\n",
      "dense_2 (Dense)              (None, 128)               3276928   \n",
      "_________________________________________________________________\n",
      "dense_3 (Dense)              (None, 20)                2580      \n",
      "=================================================================\n",
      "Total params: 3,303,092\n",
      "Trainable params: 3,303,092\n",
      "Non-trainable params: 0\n",
      "_________________________________________________________________\n"
     ]
    }
   ],
   "source": [
    "new_model = keras.models.load_model('AI_Token_Recognition')\n",
    "\n",
    "# Check its architecture\n",
    "new_model.summary()"
   ]
  },
  {
   "cell_type": "markdown",
   "metadata": {},
   "source": [
    "# Converting the model to Tensorflow Lite"
   ]
  },
  {
   "cell_type": "markdown",
   "metadata": {},
   "source": [
    "To use in a Python file"
   ]
  },
  {
   "cell_type": "markdown",
   "metadata": {},
   "source": [
    "## From a SavedModel on the disk"
   ]
  },
  {
   "cell_type": "raw",
   "metadata": {},
   "source": [
    "import tensorflow as tf\n",
    "\n",
    "# Convert the model\n",
    "converter = tf.lite.TFLiteConverter.from_saved_model(saved_model_dir) # path to the SavedModel directory\n",
    "tflite_model = converter.convert()\n",
    "\n",
    "# Save the model.\n",
    "with open('model.tflite', 'wb') as f:\n",
    "  f.write(tflite_model)"
   ]
  },
  {
   "cell_type": "markdown",
   "metadata": {},
   "source": [
    "## From a Keras model trained in the same file"
   ]
  },
  {
   "cell_type": "raw",
   "metadata": {},
   "source": [
    "converter = tf.lite.TFLiteConverter.from_keras_model(model)\n",
    "tflite_model = converter.convert()\n",
    "\n",
    "# Save the model.\n",
    "with open('model.tflite', 'wb') as f:\n",
    "  f.write(tflite_model)"
   ]
  },
  {
   "cell_type": "code",
   "execution_count": null,
   "metadata": {},
   "outputs": [],
   "source": []
  }
 ],
 "metadata": {
  "kernelspec": {
   "display_name": "Python 3",
   "language": "python",
   "name": "python3"
  },
  "language_info": {
   "codemirror_mode": {
    "name": "ipython",
    "version": 3
   },
   "file_extension": ".py",
   "mimetype": "text/x-python",
   "name": "python",
   "nbconvert_exporter": "python",
   "pygments_lexer": "ipython3",
   "version": "3.9.1"
  }
 },
 "nbformat": 4,
 "nbformat_minor": 5
}
