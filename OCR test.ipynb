{
 "cells": [
  {
   "cell_type": "markdown",
   "metadata": {},
   "source": [
    "## Imports"
   ]
  },
  {
   "cell_type": "code",
   "execution_count": 4,
   "metadata": {},
   "outputs": [
    {
     "name": "stdout",
     "output_type": "stream",
     "text": [
      "Defaulting to user installation because normal site-packages is not writeable\n",
      "Requirement already satisfied: pytesseract in /home/thinkpad/.local/lib/python3.9/site-packages (0.3.7)\n",
      "Requirement already satisfied: Pillow in /usr/lib/python3.9/site-packages (from pytesseract) (8.0.1)\n"
     ]
    }
   ],
   "source": [
    "# -*- coding: utf-8 -*-\n",
    "\n",
    "import cv2\n",
    "import numpy as np\n",
    "!pip install pytesseract\n",
    "import pytesseract"
   ]
  },
  {
   "cell_type": "markdown",
   "metadata": {},
   "source": [
    "Returns a grayscale image from a given image"
   ]
  },
  {
   "cell_type": "code",
   "execution_count": 5,
   "metadata": {},
   "outputs": [],
   "source": [
    "# get grayscale image\n",
    "def get_grayscale(image):\n",
    "    return cv2.cvtColor(image, cv2.COLOR_BGR2GRAY)"
   ]
  },
  {
   "cell_type": "markdown",
   "metadata": {},
   "source": [
    "Removes the noise from an image by using the median blur"
   ]
  },
  {
   "cell_type": "code",
   "execution_count": 6,
   "metadata": {},
   "outputs": [],
   "source": [
    "# noise removal\n",
    "def remove_noise(image):\n",
    "    return cv2.medianBlur(image,5)"
   ]
  },
  {
   "cell_type": "markdown",
   "metadata": {},
   "source": [
    "Thresholds an image"
   ]
  },
  {
   "cell_type": "code",
   "execution_count": 7,
   "metadata": {},
   "outputs": [],
   "source": [
    "#thresholding\n",
    "def thresholding(image):\n",
    "    return cv2.threshold(image, 0, 255, cv2.THRESH_BINARY + cv2.THRESH_OTSU)[1]"
   ]
  },
  {
   "cell_type": "markdown",
   "metadata": {},
   "source": [
    "Dilates an image"
   ]
  },
  {
   "cell_type": "code",
   "execution_count": 8,
   "metadata": {},
   "outputs": [],
   "source": [
    "#dilation\n",
    "def dilate(image):\n",
    "    kernel = np.ones((5,5),np.uint8)\n",
    "    return cv2.dilate(image, kernel, iterations = 1)"
   ]
  },
  {
   "cell_type": "markdown",
   "metadata": {},
   "source": [
    "Erodes an image"
   ]
  },
  {
   "cell_type": "code",
   "execution_count": 9,
   "metadata": {},
   "outputs": [],
   "source": [
    "#erosion\n",
    "def erode(image):\n",
    "    kernel = np.ones((5,5),np.uint8)\n",
    "    return cv2.erode(image, kernel, iterations = 1)"
   ]
  },
  {
   "cell_type": "markdown",
   "metadata": {},
   "source": [
    "Applies an opening which is an erosion followed by a dilation"
   ]
  },
  {
   "cell_type": "code",
   "execution_count": 10,
   "metadata": {},
   "outputs": [],
   "source": [
    "#opening - erosion followed by dilation\n",
    "def opening(image):\n",
    "    kernel = np.ones((5,5),np.uint8)\n",
    "    return cv2.morphologyEx(image, cv2.MORPH_OPEN, kernel)"
   ]
  },
  {
   "cell_type": "markdown",
   "metadata": {},
   "source": [
    "Detects the edges of an image"
   ]
  },
  {
   "cell_type": "code",
   "execution_count": 11,
   "metadata": {},
   "outputs": [],
   "source": [
    "#canny edge detection\n",
    "def canny(image):\n",
    "    return cv2.Canny(image, 100, 200)"
   ]
  },
  {
   "cell_type": "markdown",
   "metadata": {},
   "source": [
    "Detects if an image is rotated"
   ]
  },
  {
   "cell_type": "code",
   "execution_count": 12,
   "metadata": {},
   "outputs": [],
   "source": [
    "#skew correction\n",
    "def deskew(image):\n",
    "    coords = np.column_stack(np.where(image > 0))\n",
    "    angle = cv2.minAreaRect(coords)[-1]\n",
    "    if angle < -45:\n",
    "        angle = -(90 + angle)\n",
    "    else:\n",
    "        angle = -angle\n",
    "    (h, w) = image.shape[:2]\n",
    "    center = (w // 2, h // 2)\n",
    "    M = cv2.getRotationMatrix2D(center, angle, 1.0)\n",
    "    rotated = cv2.warpAffine(image, M, (w, h), flags=cv2.INTER_CUBIC, borderMode=cv2.BORDER_REPLICATE)\n",
    "    return rotated"
   ]
  },
  {
   "cell_type": "markdown",
   "metadata": {},
   "source": [
    "Checks if an image matches a template"
   ]
  },
  {
   "cell_type": "code",
   "execution_count": 13,
   "metadata": {},
   "outputs": [],
   "source": [
    "#template matching\n",
    "def match_template(image, template):\n",
    "    return cv2.matchTemplate(image, template, cv2.TM_CCOEFF_NORMED) "
   ]
  },
  {
   "cell_type": "markdown",
   "metadata": {},
   "source": [
    "## Main program"
   ]
  },
  {
   "cell_type": "markdown",
   "metadata": {},
   "source": [
    "Defining our image variables"
   ]
  },
  {
   "cell_type": "code",
   "execution_count": 14,
   "metadata": {},
   "outputs": [],
   "source": [
    "# images vars\n",
    "img_dir = \"./images/\";\n",
    "img_names = {'jaune.png', 'rouge.png', 'vert.jpg', 'violet.png'}"
   ]
  },
  {
   "cell_type": "markdown",
   "metadata": {},
   "source": [
    "Custom options for tesseract :\n",
    "- 'c'\n",
    "- 'tessedit_char_whitelist=0123456789' = only digits are considered a correct result\n",
    "- 'oem'\n",
    "- 'psm'"
   ]
  },
  {
   "cell_type": "code",
   "execution_count": 15,
   "metadata": {},
   "outputs": [],
   "source": [
    "# Adding custom options for tesseract\n",
    "custom_config = r'-c tessedit_char_whitelist=0123456789 --oem 1 --psm 9'"
   ]
  },
  {
   "cell_type": "markdown",
   "metadata": {},
   "source": [
    "Will be used for extracting the number's color"
   ]
  },
  {
   "cell_type": "code",
   "execution_count": 16,
   "metadata": {},
   "outputs": [],
   "source": [
    "low_mask = np.array([0,0,0])"
   ]
  },
  {
   "cell_type": "markdown",
   "metadata": {},
   "source": [
    "Starting a loop from 1 to 20 which corresponds to each number available in the game"
   ]
  },
  {
   "cell_type": "markdown",
   "metadata": {},
   "source": [
    "Adding a second loop inside to browse the different tokens' colors"
   ]
  },
  {
   "cell_type": "markdown",
   "metadata": {},
   "source": [
    "Reads an image thanks to the vars"
   ]
  },
  {
   "cell_type": "code",
   "execution_count": 18,
   "metadata": {},
   "outputs": [
    {
     "name": "stdout",
     "output_type": "stream",
     "text": [
      "violet.png(1):\f",
      "\n",
      "jaune.png(1):1\n",
      "\f",
      "\n",
      "vert.jpg(1):\f",
      "\n",
      "rouge.png(1):\f",
      "\n",
      "violet.png(2):\f",
      "\n",
      "jaune.png(2):3\n",
      "\f",
      "\n",
      "vert.jpg(2):\f",
      "\n",
      "rouge.png(2):\f",
      "\n",
      "violet.png(3):\f",
      "\n",
      "jaune.png(3):3\n",
      "\f",
      "\n",
      "vert.jpg(3):3\n",
      "\f",
      "\n",
      "rouge.png(3):3\n",
      "\f",
      "\n",
      "violet.png(4):4\n",
      "\f",
      "\n",
      "jaune.png(4):\f",
      "\n",
      "vert.jpg(4):\f",
      "\n",
      "rouge.png(4):\f",
      "\n",
      "violet.png(5):\f",
      "\n",
      "jaune.png(5):\f",
      "\n",
      "vert.jpg(5):5\n",
      "\f",
      "\n",
      "rouge.png(5):\f",
      "\n",
      "violet.png(6):6\n",
      "\f",
      "\n",
      "jaune.png(6):6\n",
      "\f",
      "\n",
      "vert.jpg(6):6\n",
      "\f",
      "\n",
      "rouge.png(6):65\n",
      "\f",
      "\n",
      "violet.png(7):7\n",
      "\f",
      "\n",
      "jaune.png(7):3\n",
      "\f",
      "\n",
      "vert.jpg(7):\f",
      "\n",
      "rouge.png(7):\f",
      "\n",
      "violet.png(8):8\n",
      "\f",
      "\n",
      "jaune.png(8):8\n",
      "\f",
      "\n",
      "vert.jpg(8):\f",
      "\n",
      "rouge.png(8):\f",
      "\n",
      "violet.png(9):9\n",
      "\f",
      "\n",
      "jaune.png(9):\f",
      "\n",
      "vert.jpg(9):\f",
      "\n",
      "rouge.png(9):9\n",
      "\f",
      "\n",
      "violet.png(10):31\n",
      "\f",
      "\n",
      "jaune.png(10):\f",
      "\n",
      "vert.jpg(10):0\n",
      "\f",
      "\n",
      "rouge.png(10):10\n",
      "\f",
      "\n",
      "violet.png(11):\f",
      "\n",
      "jaune.png(11):\f",
      "\n",
      "vert.jpg(11):\f",
      "\n",
      "rouge.png(11):\f",
      "\n",
      "violet.png(12):\f",
      "\n",
      "jaune.png(12):12\n",
      "\f",
      "\n",
      "vert.jpg(12):2\n",
      "\f",
      "\n",
      "rouge.png(12):\f",
      "\n",
      "violet.png(13):\f",
      "\n",
      "jaune.png(13):\f",
      "\n",
      "vert.jpg(13):13\n",
      "\f",
      "\n",
      "rouge.png(13):13\n",
      "\f",
      "\n",
      "violet.png(14):\f",
      "\n",
      "jaune.png(14):14\n",
      "\f",
      "\n",
      "vert.jpg(14):14\n",
      "\f",
      "\n",
      "rouge.png(14):14\n",
      "\f",
      "\n",
      "violet.png(15):\f",
      "\n",
      "jaune.png(15):\f",
      "\n",
      "vert.jpg(15):15\n",
      "\f",
      "\n",
      "rouge.png(15):\f",
      "\n",
      "violet.png(16):\f",
      "\n",
      "jaune.png(16):16\n",
      "\f",
      "\n",
      "vert.jpg(16):0\n",
      "\f",
      "\n",
      "rouge.png(16):16\n",
      "\f",
      "\n",
      "violet.png(17):47\n",
      "\f",
      "\n",
      "jaune.png(17):\f",
      "\n",
      "vert.jpg(17):\f",
      "\n",
      "rouge.png(17):\f",
      "\n",
      "violet.png(18):18\n",
      "\f",
      "\n",
      "jaune.png(18):18\n",
      "\f",
      "\n",
      "vert.jpg(18):8\n",
      "\f",
      "\n",
      "rouge.png(18):18\n",
      "\f",
      "\n",
      "violet.png(19):49\n",
      "\f",
      "\n",
      "jaune.png(19):19\n",
      "\f",
      "\n",
      "vert.jpg(19):19\n",
      "\f",
      "\n",
      "rouge.png(19):9\n",
      "\f",
      "\n",
      "violet.png(20):\f",
      "\n",
      "jaune.png(20):2\n",
      "\f",
      "\n",
      "vert.jpg(20):20\n",
      "\f",
      "\n",
      "rouge.png(20):\f",
      "\n"
     ]
    }
   ],
   "source": [
    "for i in range(1, 21):\n",
    "    for name in img_names: \n",
    "        image = cv2.imread(img_dir + str(i) + '/' + str(i) + name)\n",
    "        #cv2.imshow('image', image)\n",
    "        #cv2.waitKey(0)\n",
    "        \n",
    "        #black_mask = cv2.inRange(image, low_black, low_black)\n",
    "        #red = cv2.bitwise_and(image, image, mask=black_mask)\n",
    "        \n",
    "        \n",
    "        # split the characters with boxes\n",
    "        h, w, c = image.shape\n",
    "        boxes = pytesseract.image_to_boxes(image, config=custom_config)\n",
    "        img = image\n",
    "        for b in boxes.splitlines():\n",
    "            b = b.split(' ')\n",
    "            img = cv2.rectangle(image, (int(b[1]), h - int(b[2])), (int(b[3]), h - int(b[4])), (0, 255, 0), 2)\n",
    "        \n",
    "        #cv2.imshow('test', img)\n",
    "        #cv2.waitKey(0)\n",
    "        \n",
    "        img_str = pytesseract.image_to_string(image, config=custom_config)\n",
    "        print(name + '(' + str(i) + '):' + img_str)"
   ]
  },
  {
   "cell_type": "code",
   "execution_count": null,
   "metadata": {},
   "outputs": [],
   "source": [
    "# destroy all opened windows created by opencv\n",
    "#cv2.destroyAllWindows()\n",
    "\n",
    "\n",
    "#image = cv2.imread('./images/2/2jaune.png')\n",
    "#cv2.imshow('image', image)\n",
    "#cv2.waitKey(0)\n",
    "\n",
    "#gray = get_grayscale(image)\n",
    "#cv2.imshow('gray', gray)\n",
    "#cv2.waitKey(0)\n",
    "\n",
    "#thresh = thresholding(gray)\n",
    "#cv2.imshow('thresh', thresh)\n",
    "#cv2.waitKey(0)\n",
    "\n",
    "#opening = opening(gray)\n",
    "#cv2.imshow('opening', opening)\n",
    "#cv2.waitKey(0)\n",
    "\n",
    "#canny = canny(gray)\n",
    "#cv2.imshow('canny', canny)\n",
    "#cv2.waitKey(0)"
   ]
  }
 ],
 "metadata": {
  "kernelspec": {
   "display_name": "Python 3",
   "language": "python",
   "name": "python3"
  },
  "language_info": {
   "codemirror_mode": {
    "name": "ipython",
    "version": 3
   },
   "file_extension": ".py",
   "mimetype": "text/x-python",
   "name": "python",
   "nbconvert_exporter": "python",
   "pygments_lexer": "ipython3",
   "version": "3.9.1"
  }
 },
 "nbformat": 4,
 "nbformat_minor": 4
}
